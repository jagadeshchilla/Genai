{
 "cells": [
  {
   "cell_type": "markdown",
   "metadata": {},
   "source": [
    "#### Faiss\n",
    "Facebook AI Similarity Search (Faiss) is a library for efficient similarity search and clustering of dense vectors. It contains algorithms that search in sets of vectors of any size, up to ones that possibly do not fit in RAM. It also contains supporting code for evaluation and parameter tuning."
   ]
  },
  {
   "cell_type": "code",
   "execution_count": 1,
   "metadata": {},
   "outputs": [],
   "source": [
    "from langchain_community.document_loaders import TextLoader\n",
    "from langchain_community.vectorstores import FAISS\n",
    "from langchain_community.embeddings import OllamaEmbeddings\n",
    "from langchain_text_splitters import CharacterTextSplitter\n",
    "\n",
    "loader=TextLoader(\"speech.txt\")\n",
    "documents=loader.load()\n",
    "text_splitter=CharacterTextSplitter(chunk_size=1000,chunk_overlap=30)\n",
    "docs=text_splitter.split_documents(documents)\n"
   ]
  },
  {
   "cell_type": "code",
   "execution_count": 2,
   "metadata": {},
   "outputs": [
    {
     "data": {
      "text/plain": [
       "[Document(metadata={'source': 'speech.txt'}, page_content='The world must be made safe for democracy. Its peace must be planted upon the tested foundations of political liberty. We have no selfish ends to serve. We desire no conquest, no dominion. We seek no indemnities for ourselves, no material compensation for the sacrifices we shall freely make. We are but one of the champions of the rights of mankind. We shall be satisfied when those rights have been made as secure as the faith and the freedom of nations can make them.\\n\\nJust because we fight without rancor and without selfish object, seeking nothing for ourselves but what we shall wish to share with all free peoples, we shall, I feel confident, conduct our operations as belligerents without passion and ourselves observe with proud punctilio the principles of right and of fair play we profess to be fighting for.\\n\\n…'),\n",
       " Document(metadata={'source': 'speech.txt'}, page_content='…\\n\\nIt will be all the easier for us to conduct ourselves as belligerents in a high spirit of right and fairness because we act without animus, not in enmity toward a people or with the desire to bring any injury or disadvantage upon them, but only in armed opposition to an irresponsible government which has thrown aside all considerations of humanity and of right and is running amuck. We are, let me say again, the sincere friends of the German people, and shall desire nothing so much as the early reestablishment of intimate relations of mutual advantage between us—however hard it may be for them, for the time being, to believe that this is spoken from our hearts.'),\n",
       " Document(metadata={'source': 'speech.txt'}, page_content='We have borne with their present government through all these bitter months because of that friendship—exercising a patience and forbearance which would otherwise have been impossible. We shall, happily, still have an opportunity to prove that friendship in our daily attitude and actions toward the millions of men and women of German birth and native sympathy who live among us and share our life, and we shall be proud to prove it toward all who are in fact loyal to their neighbors and to the government in the hour of test. They are, most of them, as true and loyal Americans as if they had never known any other fealty or allegiance. They will be prompt to stand with us in rebuking and restraining the few who may be of a different mind and purpose. If there should be disloyalty, it will be dealt with with a firm hand of stern repression; but, if it lifts its head at all, it will lift it only here and there and without countenance except from a lawless and malignant few.'),\n",
       " Document(metadata={'source': 'speech.txt'}, page_content='It is a distressing and oppressive duty, gentlemen of the Congress, which I have performed in thus addressing you. There are, it may be, many months of fiery trial and sacrifice ahead of us. It is a fearful thing to lead this great peaceful people into war, into the most terrible and disastrous of all wars, civilization itself seeming to be in the balance. But the right is more precious than peace, and we shall fight for the things which we have always carried nearest our hearts—for democracy, for the right of those who submit to authority to have a voice in their own governments, for the rights and liberties of small nations, for a universal dominion of right by such a concert of free peoples as shall bring peace and safety to all nations and make the world itself at last free.'),\n",
       " Document(metadata={'source': 'speech.txt'}, page_content='To such a task we can dedicate our lives and our fortunes, everything that we are and everything that we have, with the pride of those who know that the day has come when America is privileged to spend her blood and her might for the principles that gave her birth and happiness and the peace which she has treasured. God helping her, she can do no other.')]"
      ]
     },
     "execution_count": 2,
     "metadata": {},
     "output_type": "execute_result"
    }
   ],
   "source": [
    "docs"
   ]
  },
  {
   "cell_type": "code",
   "execution_count": 4,
   "metadata": {},
   "outputs": [
    {
     "data": {
      "text/plain": [
       "<langchain_community.vectorstores.faiss.FAISS at 0x21e79010dc0>"
      ]
     },
     "execution_count": 4,
     "metadata": {},
     "output_type": "execute_result"
    }
   ],
   "source": [
    "embeddings=OllamaEmbeddings(model=\"all-minilm\")\n",
    "db=FAISS.from_documents(docs,embeddings)\n",
    "db"
   ]
  },
  {
   "cell_type": "code",
   "execution_count": 5,
   "metadata": {},
   "outputs": [
    {
     "data": {
      "text/plain": [
       "'It is a distressing and oppressive duty, gentlemen of the Congress, which I have performed in thus addressing you. There are, it may be, many months of fiery trial and sacrifice ahead of us. It is a fearful thing to lead this great peaceful people into war, into the most terrible and disastrous of all wars, civilization itself seeming to be in the balance. But the right is more precious than peace, and we shall fight for the things which we have always carried nearest our hearts—for democracy, for the right of those who submit to authority to have a voice in their own governments, for the rights and liberties of small nations, for a universal dominion of right by such a concert of free peoples as shall bring peace and safety to all nations and make the world itself at last free.'"
      ]
     },
     "execution_count": 5,
     "metadata": {},
     "output_type": "execute_result"
    }
   ],
   "source": [
    "### querying \n",
    "query=\"How does the speaker describe the desired outcome of the war?\"\n",
    "docs=db.similarity_search(query)\n",
    "docs[0].page_content\n"
   ]
  },
  {
   "cell_type": "markdown",
   "metadata": {},
   "source": [
    "#### As a Retriever\n",
    "We can also convert the vectorstore into a Retriever class. This allows us to easily use it in other LangChain methods, which largely work with retrievers"
   ]
  },
  {
   "cell_type": "code",
   "execution_count": 6,
   "metadata": {},
   "outputs": [
    {
     "data": {
      "text/plain": [
       "'It is a distressing and oppressive duty, gentlemen of the Congress, which I have performed in thus addressing you. There are, it may be, many months of fiery trial and sacrifice ahead of us. It is a fearful thing to lead this great peaceful people into war, into the most terrible and disastrous of all wars, civilization itself seeming to be in the balance. But the right is more precious than peace, and we shall fight for the things which we have always carried nearest our hearts—for democracy, for the right of those who submit to authority to have a voice in their own governments, for the rights and liberties of small nations, for a universal dominion of right by such a concert of free peoples as shall bring peace and safety to all nations and make the world itself at last free.'"
      ]
     },
     "execution_count": 6,
     "metadata": {},
     "output_type": "execute_result"
    }
   ],
   "source": [
    "retriever=db.as_retriever()\n",
    "docs=retriever.invoke(query)\n",
    "docs[0].page_content"
   ]
  },
  {
   "cell_type": "markdown",
   "metadata": {},
   "source": [
    "#### Similarity Search with score\n",
    "There are some FAISS specific methods. One of them is similarity_search_with_score, which allows you to return not only the documents but also the distance score of the query to them. The returned distance score is L2 distance. Therefore, a lower score is better."
   ]
  },
  {
   "cell_type": "code",
   "execution_count": 7,
   "metadata": {},
   "outputs": [
    {
     "data": {
      "text/plain": [
       "[(Document(id='c01fb1f8-81d6-4b34-a78d-53ebc0525819', metadata={'source': 'speech.txt'}, page_content='It is a distressing and oppressive duty, gentlemen of the Congress, which I have performed in thus addressing you. There are, it may be, many months of fiery trial and sacrifice ahead of us. It is a fearful thing to lead this great peaceful people into war, into the most terrible and disastrous of all wars, civilization itself seeming to be in the balance. But the right is more precious than peace, and we shall fight for the things which we have always carried nearest our hearts—for democracy, for the right of those who submit to authority to have a voice in their own governments, for the rights and liberties of small nations, for a universal dominion of right by such a concert of free peoples as shall bring peace and safety to all nations and make the world itself at last free.'),\n",
       "  np.float32(15.983438)),\n",
       " (Document(id='303e8aea-a9e7-4fe2-ad8f-56c6276af41b', metadata={'source': 'speech.txt'}, page_content='The world must be made safe for democracy. Its peace must be planted upon the tested foundations of political liberty. We have no selfish ends to serve. We desire no conquest, no dominion. We seek no indemnities for ourselves, no material compensation for the sacrifices we shall freely make. We are but one of the champions of the rights of mankind. We shall be satisfied when those rights have been made as secure as the faith and the freedom of nations can make them.\\n\\nJust because we fight without rancor and without selfish object, seeking nothing for ourselves but what we shall wish to share with all free peoples, we shall, I feel confident, conduct our operations as belligerents without passion and ourselves observe with proud punctilio the principles of right and of fair play we profess to be fighting for.\\n\\n…'),\n",
       "  np.float32(16.690449)),\n",
       " (Document(id='469c82d8-eb7f-44c6-b3ad-83194c93d67f', metadata={'source': 'speech.txt'}, page_content='…\\n\\nIt will be all the easier for us to conduct ourselves as belligerents in a high spirit of right and fairness because we act without animus, not in enmity toward a people or with the desire to bring any injury or disadvantage upon them, but only in armed opposition to an irresponsible government which has thrown aside all considerations of humanity and of right and is running amuck. We are, let me say again, the sincere friends of the German people, and shall desire nothing so much as the early reestablishment of intimate relations of mutual advantage between us—however hard it may be for them, for the time being, to believe that this is spoken from our hearts.'),\n",
       "  np.float32(17.351215)),\n",
       " (Document(id='96157d4c-5413-41e1-a7f8-281af2e7c2a7', metadata={'source': 'speech.txt'}, page_content='We have borne with their present government through all these bitter months because of that friendship—exercising a patience and forbearance which would otherwise have been impossible. We shall, happily, still have an opportunity to prove that friendship in our daily attitude and actions toward the millions of men and women of German birth and native sympathy who live among us and share our life, and we shall be proud to prove it toward all who are in fact loyal to their neighbors and to the government in the hour of test. They are, most of them, as true and loyal Americans as if they had never known any other fealty or allegiance. They will be prompt to stand with us in rebuking and restraining the few who may be of a different mind and purpose. If there should be disloyalty, it will be dealt with with a firm hand of stern repression; but, if it lifts its head at all, it will lift it only here and there and without countenance except from a lawless and malignant few.'),\n",
       "  np.float32(17.758438))]"
      ]
     },
     "execution_count": 7,
     "metadata": {},
     "output_type": "execute_result"
    }
   ],
   "source": [
    "docs_and_score=db.similarity_search_with_score(query)\n",
    "docs_and_score"
   ]
  },
  {
   "cell_type": "code",
   "execution_count": 8,
   "metadata": {},
   "outputs": [
    {
     "data": {
      "text/plain": [
       "[-0.11198858171701431,\n",
       " 0.3849495053291321,\n",
       " -0.002327488735318184,\n",
       " 0.037614695727825165,\n",
       " -0.20249678194522858,\n",
       " 0.33472123742103577,\n",
       " 0.27459535002708435,\n",
       " -0.027164435014128685,\n",
       " 0.00807473435997963,\n",
       " 0.07643662393093109,\n",
       " -0.2187766581773758,\n",
       " 0.05450154095888138,\n",
       " 0.10431377589702606,\n",
       " -0.0762953981757164,\n",
       " -0.09917400777339935,\n",
       " 0.05840737000107765,\n",
       " 0.10060525685548782,\n",
       " -0.2231547087430954,\n",
       " 0.018433088436722755,\n",
       " -0.016008440405130386,\n",
       " 0.3862527906894684,\n",
       " 0.3202173709869385,\n",
       " 0.34969836473464966,\n",
       " 0.08055213838815689,\n",
       " 0.2162206619977951,\n",
       " -0.04639044031500816,\n",
       " -0.08684069663286209,\n",
       " 0.23406119644641876,\n",
       " -0.15379954874515533,\n",
       " 0.20169709622859955,\n",
       " 0.11608146131038666,\n",
       " -0.020760582759976387,\n",
       " 0.10631263256072998,\n",
       " 0.11993408203125,\n",
       " 0.08741987496614456,\n",
       " -0.0698123574256897,\n",
       " -0.16463851928710938,\n",
       " -0.016147520393133163,\n",
       " -0.004976809024810791,\n",
       " -0.11678294837474823,\n",
       " -0.2469204068183899,\n",
       " -0.2304682433605194,\n",
       " 0.11667738854885101,\n",
       " 0.15114158391952515,\n",
       " 0.0795031189918518,\n",
       " -0.0159341711550951,\n",
       " -0.4772348403930664,\n",
       " -0.010169712826609612,\n",
       " 0.0562577061355114,\n",
       " 0.3502747714519501,\n",
       " -0.12406791001558304,\n",
       " -0.05920831859111786,\n",
       " -0.10698376595973969,\n",
       " 0.029064660891890526,\n",
       " 0.13523206114768982,\n",
       " -0.03899679705500603,\n",
       " -0.12016813457012177,\n",
       " 0.014250936917960644,\n",
       " 0.16870532929897308,\n",
       " -0.2134748101234436,\n",
       " -0.3019106388092041,\n",
       " -0.21118541061878204,\n",
       " -0.07374045997858047,\n",
       " 0.2533018887042999,\n",
       " 0.27546510100364685,\n",
       " -0.36412879824638367,\n",
       " 0.2232162058353424,\n",
       " -0.011064698919653893,\n",
       " -0.6078901290893555,\n",
       " -5.257595330476761e-05,\n",
       " 0.10928712040185928,\n",
       " 0.03191274404525757,\n",
       " 0.13245007395744324,\n",
       " -0.13186301290988922,\n",
       " -0.15967367589473724,\n",
       " -0.20095586776733398,\n",
       " 0.32103878259658813,\n",
       " 0.1788022220134735,\n",
       " 0.366201251745224,\n",
       " 0.09682179242372513,\n",
       " 0.01910170167684555,\n",
       " 0.21299448609352112,\n",
       " -0.15800590813159943,\n",
       " 0.05936398357152939,\n",
       " 0.268098920583725,\n",
       " -0.2720516622066498,\n",
       " 0.1323709934949875,\n",
       " -0.11112308502197266,\n",
       " 0.3819584250450134,\n",
       " 0.09343521296977997,\n",
       " -0.5723654627799988,\n",
       " -0.3917432427406311,\n",
       " 0.035697899758815765,\n",
       " 0.38819241523742676,\n",
       " 0.06809847056865692,\n",
       " 0.4319811761379242,\n",
       " 0.1528991013765335,\n",
       " -0.21336492896080017,\n",
       " 0.08220639824867249,\n",
       " 0.16846945881843567,\n",
       " 0.45302343368530273,\n",
       " -0.2881503105163574,\n",
       " -0.10381057113409042,\n",
       " -0.601057231426239,\n",
       " -0.3186999261379242,\n",
       " -0.3305906057357788,\n",
       " -0.5240018963813782,\n",
       " 0.1513623297214508,\n",
       " -0.3748525083065033,\n",
       " -0.12423042953014374,\n",
       " -0.42769694328308105,\n",
       " -0.15968626737594604,\n",
       " 0.19538255035877228,\n",
       " -0.10899490118026733,\n",
       " 0.16773219406604767,\n",
       " 0.1540806144475937,\n",
       " 0.04659242182970047,\n",
       " -0.2612776458263397,\n",
       " -0.16411542892456055,\n",
       " 0.00021052919328212738,\n",
       " 0.09933515638113022,\n",
       " -0.034019336104393005,\n",
       " -0.11125263571739197,\n",
       " 0.08678759634494781,\n",
       " -0.440489262342453,\n",
       " -0.027456454932689667,\n",
       " 0.05462891608476639,\n",
       " -2.819372066442996e-32,\n",
       " 0.14470510184764862,\n",
       " -0.33584269881248474,\n",
       " 0.003166595473885536,\n",
       " 0.3983496427536011,\n",
       " -0.2244447022676468,\n",
       " -0.21474333107471466,\n",
       " -0.1451607048511505,\n",
       " -0.004272832069545984,\n",
       " 0.20432542264461517,\n",
       " 0.14077496528625488,\n",
       " -0.41992950439453125,\n",
       " 0.05273934826254845,\n",
       " -0.004806884564459324,\n",
       " 0.2916455566883087,\n",
       " -0.12757447361946106,\n",
       " -0.08884122967720032,\n",
       " -0.5482582449913025,\n",
       " 0.47426557540893555,\n",
       " -0.16492849588394165,\n",
       " -0.014400724321603775,\n",
       " -0.003464472247287631,\n",
       " 0.3722078502178192,\n",
       " -0.031785737723112106,\n",
       " -0.12485562264919281,\n",
       " 0.5226799845695496,\n",
       " -0.10433537513017654,\n",
       " -0.1281588226556778,\n",
       " -0.22458769381046295,\n",
       " -0.20667003095149994,\n",
       " 0.09100723266601562,\n",
       " -0.10045444965362549,\n",
       " 0.11799203604459763,\n",
       " -0.17115063965320587,\n",
       " -0.4512312710285187,\n",
       " 0.22715188562870026,\n",
       " -0.008787624537944794,\n",
       " -0.3740957975387573,\n",
       " 0.09797899425029755,\n",
       " -0.15930360555648804,\n",
       " -0.05735887959599495,\n",
       " -0.058064453303813934,\n",
       " 0.09208071231842041,\n",
       " -0.17660820484161377,\n",
       " 0.19675421714782715,\n",
       " 0.2974581718444824,\n",
       " -0.13035111129283905,\n",
       " -0.34040307998657227,\n",
       " -0.052865758538246155,\n",
       " -0.262980580329895,\n",
       " 0.029428377747535706,\n",
       " 0.04993138462305069,\n",
       " -0.1206187829375267,\n",
       " -0.08024412393569946,\n",
       " -0.11842680722475052,\n",
       " 0.41726016998291016,\n",
       " 0.1044619232416153,\n",
       " 0.05479172617197037,\n",
       " 0.2508896589279175,\n",
       " -0.33628442883491516,\n",
       " -0.22504085302352905,\n",
       " 0.28042760491371155,\n",
       " -0.07761410623788834,\n",
       " 0.03363808989524841,\n",
       " -0.042923904955387115,\n",
       " 0.019263379275798798,\n",
       " 0.018331915140151978,\n",
       " -0.5156348347663879,\n",
       " -0.11285308003425598,\n",
       " 0.028666559606790543,\n",
       " -0.009811008349061012,\n",
       " -0.042973071336746216,\n",
       " -0.019435085356235504,\n",
       " 0.1335061639547348,\n",
       " -0.2701614499092102,\n",
       " -0.3417460322380066,\n",
       " 0.14661389589309692,\n",
       " 0.13438951969146729,\n",
       " 0.12043854594230652,\n",
       " 0.09129233658313751,\n",
       " -0.25986969470977783,\n",
       " -0.07252468913793564,\n",
       " 0.003125645685940981,\n",
       " -0.0014852508902549744,\n",
       " 0.20006078481674194,\n",
       " 0.014899526722729206,\n",
       " -0.013904214836657047,\n",
       " 0.1491357833147049,\n",
       " -0.744315505027771,\n",
       " -0.04466432332992554,\n",
       " -0.12723790109157562,\n",
       " -0.08149582147598267,\n",
       " 0.03450777381658554,\n",
       " -0.06594841182231903,\n",
       " 0.13070940971374512,\n",
       " -0.017148535698652267,\n",
       " 1.0874731134275238e-32,\n",
       " -0.1804400235414505,\n",
       " 0.40922027826309204,\n",
       " -0.10333464294672012,\n",
       " 0.060575008392333984,\n",
       " -0.14542946219444275,\n",
       " 0.07450948655605316,\n",
       " -0.008098804391920567,\n",
       " -0.21745872497558594,\n",
       " -0.012506255879998207,\n",
       " 0.0299997515976429,\n",
       " -0.125186949968338,\n",
       " -0.0055796317756175995,\n",
       " 0.058064933866262436,\n",
       " 0.2584853172302246,\n",
       " -0.398444265127182,\n",
       " 0.07640029489994049,\n",
       " 0.457867830991745,\n",
       " -0.2282668650150299,\n",
       " 0.19243116676807404,\n",
       " 0.15948577225208282,\n",
       " 0.10231492668390274,\n",
       " 0.16956841945648193,\n",
       " -0.23692463338375092,\n",
       " -0.1544160544872284,\n",
       " 0.1327822506427765,\n",
       " -0.02628927119076252,\n",
       " 0.4668056070804596,\n",
       " -0.2690809667110443,\n",
       " -0.22923602163791656,\n",
       " -0.12374897301197052,\n",
       " 0.23515161871910095,\n",
       " -0.6219332814216614,\n",
       " -0.3825818598270416,\n",
       " 0.2950741648674011,\n",
       " 0.3025831878185272,\n",
       " 0.26823222637176514,\n",
       " 0.5260527729988098,\n",
       " -0.20696023106575012,\n",
       " -0.06717228144407272,\n",
       " 0.022235676646232605,\n",
       " 0.008572380989789963,\n",
       " -0.3250699043273926,\n",
       " -0.17979340255260468,\n",
       " 0.25490450859069824,\n",
       " -0.3766745626926422,\n",
       " -0.09012893587350845,\n",
       " -0.09677768498659134,\n",
       " 0.054341427981853485,\n",
       " 0.18369242548942566,\n",
       " -0.2262618988752365,\n",
       " 0.18479812145233154,\n",
       " 0.2214556485414505,\n",
       " -0.1484442800283432,\n",
       " 0.29547175765037537,\n",
       " -0.33585870265960693,\n",
       " -0.2781452536582947,\n",
       " -0.24647511541843414,\n",
       " -0.45889657735824585,\n",
       " 0.15606701374053955,\n",
       " 0.28714051842689514,\n",
       " -0.36813387274742126,\n",
       " 0.10132791101932526,\n",
       " 0.027363505214452744,\n",
       " -0.07170503586530685,\n",
       " -0.12631267309188843,\n",
       " -0.12394531816244125,\n",
       " -0.2576483190059662,\n",
       " 0.0376858189702034,\n",
       " 0.267446368932724,\n",
       " 0.16964781284332275,\n",
       " 0.12047592550516129,\n",
       " 0.030724158510565758,\n",
       " -0.23282159864902496,\n",
       " 0.03949733078479767,\n",
       " 0.5231927037239075,\n",
       " -0.04070308431982994,\n",
       " -0.03597300499677658,\n",
       " -0.19536864757537842,\n",
       " -0.43176937103271484,\n",
       " 0.15950742363929749,\n",
       " -0.11874701082706451,\n",
       " -0.05100072920322418,\n",
       " -0.03338313475251198,\n",
       " 0.046887245029211044,\n",
       " -0.14928027987480164,\n",
       " 0.017628595232963562,\n",
       " -0.12098546326160431,\n",
       " 0.2142626792192459,\n",
       " 0.18010006844997406,\n",
       " 0.07124694436788559,\n",
       " 0.03250410407781601,\n",
       " -0.25491711497306824,\n",
       " 0.018262874335050583,\n",
       " -0.08113660663366318,\n",
       " -0.1303808093070984,\n",
       " -9.777451026593553e-08,\n",
       " -0.23317202925682068,\n",
       " 0.1670905351638794,\n",
       " 0.25244230031967163,\n",
       " 0.13055814802646637,\n",
       " -0.24993373453617096,\n",
       " 0.0018802494741976261,\n",
       " -0.010540839284658432,\n",
       " -0.3365302085876465,\n",
       " -0.01436572801321745,\n",
       " -0.00030099228024482727,\n",
       " 0.09369893372058868,\n",
       " 0.3999558985233307,\n",
       " -0.09906205534934998,\n",
       " 0.16716209053993225,\n",
       " -0.019399788230657578,\n",
       " 0.3697125017642975,\n",
       " -0.007571972906589508,\n",
       " 0.04078652337193489,\n",
       " -0.2046090066432953,\n",
       " -0.3408232033252716,\n",
       " 0.3292613625526428,\n",
       " 0.016196005046367645,\n",
       " -0.18329301476478577,\n",
       " -0.0002442505210638046,\n",
       " 0.13074727356433868,\n",
       " 0.39905959367752075,\n",
       " -0.13251544535160065,\n",
       " 0.19427689909934998,\n",
       " -0.12966331839561462,\n",
       " 0.45012837648391724,\n",
       " 0.11476340889930725,\n",
       " 0.3646053373813629,\n",
       " -0.38084131479263306,\n",
       " -0.2558562159538269,\n",
       " -0.12673835456371307,\n",
       " 0.4505070447921753,\n",
       " 0.006344357505440712,\n",
       " -0.21760132908821106,\n",
       " 0.3356494605541229,\n",
       " -0.12561248242855072,\n",
       " -0.004284601658582687,\n",
       " 0.7161539793014526,\n",
       " 0.20578736066818237,\n",
       " 0.3065948784351349,\n",
       " 0.41312384605407715,\n",
       " 0.3257926404476166,\n",
       " 0.014744983986020088,\n",
       " -0.12403400242328644,\n",
       " -0.15644080936908722,\n",
       " -0.1710807979106903,\n",
       " -0.026299068704247475,\n",
       " -0.06760117411613464,\n",
       " -0.003387395292520523,\n",
       " 0.2941690683364868,\n",
       " 0.05989806726574898,\n",
       " 0.08958863466978073,\n",
       " 0.27363723516464233,\n",
       " 0.13837619125843048,\n",
       " 0.21075904369354248,\n",
       " 0.21480923891067505,\n",
       " 0.1848202794790268,\n",
       " 0.1952923983335495,\n",
       " -0.10520599782466888,\n",
       " 0.0388617068529129]"
      ]
     },
     "execution_count": 8,
     "metadata": {},
     "output_type": "execute_result"
    }
   ],
   "source": [
    "embedding_vector=embeddings.embed_query(query)\n",
    "embedding_vector"
   ]
  },
  {
   "cell_type": "code",
   "execution_count": 9,
   "metadata": {},
   "outputs": [
    {
     "data": {
      "text/plain": [
       "[Document(id='c01fb1f8-81d6-4b34-a78d-53ebc0525819', metadata={'source': 'speech.txt'}, page_content='It is a distressing and oppressive duty, gentlemen of the Congress, which I have performed in thus addressing you. There are, it may be, many months of fiery trial and sacrifice ahead of us. It is a fearful thing to lead this great peaceful people into war, into the most terrible and disastrous of all wars, civilization itself seeming to be in the balance. But the right is more precious than peace, and we shall fight for the things which we have always carried nearest our hearts—for democracy, for the right of those who submit to authority to have a voice in their own governments, for the rights and liberties of small nations, for a universal dominion of right by such a concert of free peoples as shall bring peace and safety to all nations and make the world itself at last free.'),\n",
       " Document(id='303e8aea-a9e7-4fe2-ad8f-56c6276af41b', metadata={'source': 'speech.txt'}, page_content='The world must be made safe for democracy. Its peace must be planted upon the tested foundations of political liberty. We have no selfish ends to serve. We desire no conquest, no dominion. We seek no indemnities for ourselves, no material compensation for the sacrifices we shall freely make. We are but one of the champions of the rights of mankind. We shall be satisfied when those rights have been made as secure as the faith and the freedom of nations can make them.\\n\\nJust because we fight without rancor and without selfish object, seeking nothing for ourselves but what we shall wish to share with all free peoples, we shall, I feel confident, conduct our operations as belligerents without passion and ourselves observe with proud punctilio the principles of right and of fair play we profess to be fighting for.\\n\\n…'),\n",
       " Document(id='469c82d8-eb7f-44c6-b3ad-83194c93d67f', metadata={'source': 'speech.txt'}, page_content='…\\n\\nIt will be all the easier for us to conduct ourselves as belligerents in a high spirit of right and fairness because we act without animus, not in enmity toward a people or with the desire to bring any injury or disadvantage upon them, but only in armed opposition to an irresponsible government which has thrown aside all considerations of humanity and of right and is running amuck. We are, let me say again, the sincere friends of the German people, and shall desire nothing so much as the early reestablishment of intimate relations of mutual advantage between us—however hard it may be for them, for the time being, to believe that this is spoken from our hearts.'),\n",
       " Document(id='96157d4c-5413-41e1-a7f8-281af2e7c2a7', metadata={'source': 'speech.txt'}, page_content='We have borne with their present government through all these bitter months because of that friendship—exercising a patience and forbearance which would otherwise have been impossible. We shall, happily, still have an opportunity to prove that friendship in our daily attitude and actions toward the millions of men and women of German birth and native sympathy who live among us and share our life, and we shall be proud to prove it toward all who are in fact loyal to their neighbors and to the government in the hour of test. They are, most of them, as true and loyal Americans as if they had never known any other fealty or allegiance. They will be prompt to stand with us in rebuking and restraining the few who may be of a different mind and purpose. If there should be disloyalty, it will be dealt with with a firm hand of stern repression; but, if it lifts its head at all, it will lift it only here and there and without countenance except from a lawless and malignant few.')]"
      ]
     },
     "execution_count": 9,
     "metadata": {},
     "output_type": "execute_result"
    }
   ],
   "source": [
    "docs_score=db.similarity_search_by_vector(embedding_vector)\n",
    "docs_score"
   ]
  },
  {
   "cell_type": "code",
   "execution_count": 10,
   "metadata": {},
   "outputs": [],
   "source": [
    "### Saving And Loading\n",
    "db.save_local(\"faiss_index\")"
   ]
  },
  {
   "cell_type": "code",
   "execution_count": 11,
   "metadata": {},
   "outputs": [],
   "source": [
    "new_db=FAISS.load_local(\"faiss_index\",embeddings,allow_dangerous_deserialization=True)\n",
    "docs=new_db.similarity_search(query)"
   ]
  },
  {
   "cell_type": "code",
   "execution_count": 12,
   "metadata": {},
   "outputs": [
    {
     "data": {
      "text/plain": [
       "[Document(id='c01fb1f8-81d6-4b34-a78d-53ebc0525819', metadata={'source': 'speech.txt'}, page_content='It is a distressing and oppressive duty, gentlemen of the Congress, which I have performed in thus addressing you. There are, it may be, many months of fiery trial and sacrifice ahead of us. It is a fearful thing to lead this great peaceful people into war, into the most terrible and disastrous of all wars, civilization itself seeming to be in the balance. But the right is more precious than peace, and we shall fight for the things which we have always carried nearest our hearts—for democracy, for the right of those who submit to authority to have a voice in their own governments, for the rights and liberties of small nations, for a universal dominion of right by such a concert of free peoples as shall bring peace and safety to all nations and make the world itself at last free.'),\n",
       " Document(id='303e8aea-a9e7-4fe2-ad8f-56c6276af41b', metadata={'source': 'speech.txt'}, page_content='The world must be made safe for democracy. Its peace must be planted upon the tested foundations of political liberty. We have no selfish ends to serve. We desire no conquest, no dominion. We seek no indemnities for ourselves, no material compensation for the sacrifices we shall freely make. We are but one of the champions of the rights of mankind. We shall be satisfied when those rights have been made as secure as the faith and the freedom of nations can make them.\\n\\nJust because we fight without rancor and without selfish object, seeking nothing for ourselves but what we shall wish to share with all free peoples, we shall, I feel confident, conduct our operations as belligerents without passion and ourselves observe with proud punctilio the principles of right and of fair play we profess to be fighting for.\\n\\n…'),\n",
       " Document(id='469c82d8-eb7f-44c6-b3ad-83194c93d67f', metadata={'source': 'speech.txt'}, page_content='…\\n\\nIt will be all the easier for us to conduct ourselves as belligerents in a high spirit of right and fairness because we act without animus, not in enmity toward a people or with the desire to bring any injury or disadvantage upon them, but only in armed opposition to an irresponsible government which has thrown aside all considerations of humanity and of right and is running amuck. We are, let me say again, the sincere friends of the German people, and shall desire nothing so much as the early reestablishment of intimate relations of mutual advantage between us—however hard it may be for them, for the time being, to believe that this is spoken from our hearts.'),\n",
       " Document(id='96157d4c-5413-41e1-a7f8-281af2e7c2a7', metadata={'source': 'speech.txt'}, page_content='We have borne with their present government through all these bitter months because of that friendship—exercising a patience and forbearance which would otherwise have been impossible. We shall, happily, still have an opportunity to prove that friendship in our daily attitude and actions toward the millions of men and women of German birth and native sympathy who live among us and share our life, and we shall be proud to prove it toward all who are in fact loyal to their neighbors and to the government in the hour of test. They are, most of them, as true and loyal Americans as if they had never known any other fealty or allegiance. They will be prompt to stand with us in rebuking and restraining the few who may be of a different mind and purpose. If there should be disloyalty, it will be dealt with with a firm hand of stern repression; but, if it lifts its head at all, it will lift it only here and there and without countenance except from a lawless and malignant few.')]"
      ]
     },
     "execution_count": 12,
     "metadata": {},
     "output_type": "execute_result"
    }
   ],
   "source": [
    "docs"
   ]
  }
 ],
 "metadata": {
  "kernelspec": {
   "display_name": "venv",
   "language": "python",
   "name": "python3"
  },
  "language_info": {
   "codemirror_mode": {
    "name": "ipython",
    "version": 3
   },
   "file_extension": ".py",
   "mimetype": "text/x-python",
   "name": "python",
   "nbconvert_exporter": "python",
   "pygments_lexer": "ipython3",
   "version": "3.10.0"
  }
 },
 "nbformat": 4,
 "nbformat_minor": 2
}
